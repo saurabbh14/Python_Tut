{
  "nbformat": 4,
  "nbformat_minor": 0,
  "metadata": {
    "colab": {
      "name": "Practical Course ASM Tutorial # 4 --Follow along",
      "provenance": [],
      "collapsed_sections": [],
      "toc_visible": true,
      "include_colab_link": true
    },
    "kernelspec": {
      "name": "python3",
      "display_name": "Python 3"
    }
  },
  "cells": [
    {
      "cell_type": "markdown",
      "metadata": {
        "id": "view-in-github",
        "colab_type": "text"
      },
      "source": [
        "<a href=\"https://colab.research.google.com/github/saurabbh14/Python_Tut/blob/main/Practical_Course_ASM_Tutorial_4_Follow_along.ipynb\" target=\"_parent\"><img src=\"https://colab.research.google.com/assets/colab-badge.svg\" alt=\"Open In Colab\"/></a>"
      ]
    },
    {
      "cell_type": "markdown",
      "metadata": {
        "id": "hdzdj_bAcQTb"
      },
      "source": [
        "# Diving deep into scientific computing\n"
      ]
    },
    {
      "cell_type": "markdown",
      "metadata": {
        "id": "DTaO_jMJ_sYx"
      },
      "source": [
        "## Recap & homework discussion\n",
        "\n",
        "Let's go over the things you learnt so far.\n",
        "\n",
        "Here is a (not anymore so) short list of all the concepts you got to know already:\n",
        "\n",
        "- Hello World\n",
        "- Calling functions (`print()`, `math.exp()`)\n",
        "- Basic data types in Python (`bool`, `float`, `int`, `str`)\n",
        "- Math operations in Python (`+, -, *, /, //, %`)\n",
        "- Defining functions (`morse()`)\n",
        "- Loops (`for` and `while`)\n",
        "- Lists (`[1, 2, 3, 4]`)\n",
        "  - list indexing (`item_at_index = l[index]`)\n",
        "  - list slicing (`sublist_until_index = l[:index]`)\n",
        "  - list comprehension (`[func(x) for x in list_of_x]`)\n",
        "- A basic representation of vectors in Python (as a `list`)\n",
        "- A basic representation of matrices in Python (as a list of lists: `[[1,1], [1,2]]`)\n",
        "- If-else statements (asking questions, making decisions)\n",
        "- Reading/writing files\n",
        "\n",
        "\n",
        "Did you encounter any problems, syntax errors or other issues in your home-based Python journey? \n",
        "\n"
      ]
    },
    {
      "cell_type": "code",
      "metadata": {
        "id": "aXMo5ObwDTir"
      },
      "source": [
        "# Did you encounter any problems/bugs/errors?"
      ],
      "execution_count": null,
      "outputs": []
    },
    {
      "cell_type": "markdown",
      "metadata": {
        "id": "5JobQgjwc49Y"
      },
      "source": [
        "## Science with Python & the `NumPy` library\n",
        "\n",
        "Now we have all the basics at hand to get going scientifically. The most prominent package in the scientific ecosystem in Python is called `numpy`. Numpy comes with its own, extremely powerful vector/array/list container type called `numpy.ndarray` (n-dimensional array). An array in computer programming is typically a data structure that has a set size and is homogeneous regarding its contents. This might seem like a disadvantage, however, it has some very specific advantages. \n",
        "\n",
        "These arrays are implemented to allow for *vectorised operations*, that means that one single operation (in code) is applied to all elements of the array at once. See the following example: "
      ]
    },
    {
      "cell_type": "code",
      "metadata": {
        "id": "mgyKTwP-gVg0"
      },
      "source": [
        "import numpy as np\n",
        "import matplotlib.pyplot as plt\n",
        "\n",
        "# Our trusty old Morse potential function.\n",
        "# We only modify it by using the numpy version of `exp()`\n",
        "def morse(r):\n",
        "  beta = 2.203\n",
        "  d = 590.7\n",
        "  r_eq = 0.917\n",
        "\n",
        "  e = d * (1 - np.exp(-beta * (r-r_eq))) ** 2\n",
        "\n",
        "  return e\n",
        "\n",
        "\n",
        "# Generate a 1000-component index in a set interval of [0.5, 2.5]\n",
        "r_array = np.linspace(0.5, 2.5, num=1000) \n",
        "morse_array = morse(r_array)\n",
        "\n",
        "\n",
        "# You can index and slice them just like lists:\n",
        "print(\"First element: \", morse_array[0:10])\n",
        "print(\"Last element: \", morse_array[-1:])\n",
        "\n",
        "\n",
        "# Like lists, ndarrays can be used in plotting\n",
        "plt.plot(r_array, morse_array)\n",
        "\n",
        "\n",
        "# You can even convert ndarrays to lists and vice versa\n",
        "m_list = list(morse_array)\n",
        "print(\"First element (list): \", m_list[0])\n",
        "print(\"Last element (list): \", m_list[-1])\n",
        "\n",
        "\n",
        "# The np.asarray function converts lists to ndarrays\n",
        "new_m_array = np.asarray(m_list)\n",
        "\n",
        "\n",
        "print(np.all(new_m_array == morse_array)) # See whether all the elements are the same"
      ],
      "execution_count": null,
      "outputs": []
    },
    {
      "cell_type": "markdown",
      "metadata": {
        "id": "y5gTxNwxkFUu"
      },
      "source": [
        "The numpy library is extremely mature in that the array container supports a ton of operations and the numpy library includes a variety of specialised functions to work on arrays and matrices.\n",
        "\n",
        "Take for example the matrix multiplication. With Numpy, you will just write:"
      ]
    },
    {
      "cell_type": "code",
      "metadata": {
        "id": "1j-hL2GFWuVf"
      },
      "source": [
        "np.arange(18)"
      ],
      "execution_count": null,
      "outputs": []
    },
    {
      "cell_type": "code",
      "metadata": {
        "id": "h0Hl_1T6kySQ"
      },
      "source": [
        "# Build two matrices. The .reshape() method, well, reshapes the array.\n",
        "matrix1 = np.arange(18).reshape([3,6])\n",
        "matrix2 = np.arange(12).reshape([6,2])\n",
        "print(matrix1)\n",
        "print(matrix2)\n",
        "\n",
        "# You can use the `@` operator ...\n",
        "res = matrix1 @ matrix2\n",
        "print(res)\n",
        "\n",
        "# ... or use the function `np.matmul()`\n",
        "res = np.matmul(matrix1, matrix2)\n",
        "print(res)\n",
        "\n",
        "print(None)  # a special Data type of null value in python"
      ],
      "execution_count": null,
      "outputs": []
    },
    {
      "cell_type": "markdown",
      "metadata": {
        "id": "u8sHS-AnHP1N"
      },
      "source": [
        "So another neat thing in NumPy is input/output. Up to now you have been writing often lengthy functions to read or write data files. While this may be necessary for more specialised data formats, NumPy allows for easy reading and writing of standard n-column `.txt` files."
      ]
    },
    {
      "cell_type": "code",
      "metadata": {
        "id": "h7Ikm5dMwpJt"
      },
      "source": [
        "# This is a short Linux command to generate a matrix file \n",
        "# Notice the '#' mark, this indicates a comment in numpy-readable data\n",
        "! printf '# 3:3\\n1, 2, 3\\n2, 3, 7\\n11, 8, 250\\n' > /content/np_matrix.txt\n",
        "\n",
        "# You can view the content of the file using the following command:\n",
        "! cat /content/np_matrix.txt"
      ],
      "execution_count": null,
      "outputs": []
    },
    {
      "cell_type": "code",
      "metadata": {
        "id": "dsmHIaanLeuv"
      },
      "source": [
        "# Now we can read the file with numpy:\n",
        "import numpy as np\n",
        "\n",
        "read_matrix = np.loadtxt(\"/content/np_matrix.txt\", delimiter=\",\", dtype=np.int0)\n",
        "print(read_matrix)\n",
        "\n",
        "# And similarly, write the file:\n",
        "np.savetxt(\"/content/np_matrix_out.txt\", read_matrix, delimiter=\",\", fmt=\"%.0d\")\n",
        "\n",
        "# Easy, isn't it? This of course also works for larger data files including \n",
        "# spectra and other xy-data files. \n",
        "! cat /content/np_matrix_out.txt"
      ],
      "execution_count": null,
      "outputs": []
    },
    {
      "cell_type": "markdown",
      "metadata": {
        "id": "WfEFGajQnHcj"
      },
      "source": [
        "And this is just the very tip of the iceberg. From now on, we will mainly live in the Numpy ecosystem to build our scientific calculations."
      ]
    },
    {
      "cell_type": "markdown",
      "metadata": {
        "id": "rEju7mUH_qPO"
      },
      "source": [
        "## Towards molecular dynamics\n",
        "\n",
        "After having started on our journey into the scientific world using `numpy`, we will now get a bit more practical! As a first start, let's implement a small program to calculate the time evolution of an ideal pendulum using Newtonian dynamics.\n",
        "\n",
        "\n"
      ]
    },
    {
      "cell_type": "markdown",
      "metadata": {
        "id": "JThLhYpARwD9"
      },
      "source": [
        "### Functions (general motion with constant acceleration)\n",
        "\n",
        "Isaac Newton and others found a set of differential equations that govern the motion of physical objects under the influence of an external force (such as gravity). \n",
        "The classical differential equations of motion are:\n",
        "\n",
        "$$\n",
        "\\mathbf{v} = \\dfrac{\\mathrm{d}\\mathbf{r}}{\\mathrm{d}t}, \\quad \\mathbf{a} = \\dfrac{\\mathrm{d}\\mathbf{v}}{\\mathrm{d}t}  = \\dfrac{\\mathrm{d}^2 \\mathbf{r}}{\\mathrm{d}t^2}\n",
        "$$\n",
        "\n",
        "The general solutions to these differential equations in the case of a constant acceleration are given by:\n",
        "\n",
        "\\begin{align}\n",
        "\\mathbf{v} &= \\mathbf{a}t + \\mathbf{v}_0 \\\\\n",
        "\\mathbf{r} &= \\mathbf{r}_0 + \\mathbf{v}_0 t + \\frac{1}{2}\\mathbf{a}t^2\\\\\n",
        "\\mathbf{r} &= \\mathbf{r}_0 + \\frac{1}{2}(\\mathbf{v} + \\mathbf{v}_0)t \\\\\n",
        "\\end{align}\n",
        "\n"
      ]
    },
    {
      "cell_type": "markdown",
      "metadata": {
        "id": "QA1OQdPJRyLQ"
      },
      "source": [
        "### Newton's equation of motion\n",
        "\n",
        "Now, Newton found the connection between a force $F$ and the acceleration of an object. \n",
        "\n",
        "\\begin{align}\n",
        "F &= \\dfrac{\\mathrm{d}\\mathbf{p}}{\\mathrm{d}t} = \\dfrac{\\mathrm{d}(m\\mathbf{v})}{\\mathrm{d}t} \\\\\n",
        "\\mathrm{for~constant~masses}\\quad\\to\\quad&= m \\dfrac{\\mathrm{d}\\mathbf{v}}{\\mathrm{d}t} \\\\\n",
        "&= m \\mathbf{a} \\\\\n",
        "\\Leftrightarrow \\mathbf{a} &= \\dfrac{F}{m}\n",
        "\\end{align}\n",
        "\n",
        "These relations will come in very handy in our cases, as the force $F$ is directly related to the potential energy of the system $E$ by:\n",
        "\n",
        "$$\n",
        "F(\\mathbf{r}) = -\\dfrac{\\mathrm{d}E_{pot}(\\mathbf{r})}{\\mathrm{d}\\mathbf{r}}\n",
        "$$\n"
      ]
    },
    {
      "cell_type": "markdown",
      "metadata": {
        "id": "kq4vc6R_Rz47"
      },
      "source": [
        "### Velocity Verlet algorithm\n",
        "\n",
        "In order to numerically solve the equations of motion for an unknown system, many algorithms have been developed over the last decades. One particularly easy and still comparably accurate approach is the so-called velocity verlet algorithm. In numerical approaches, we usually solve equations iteratively, by computing quantities by small steps at each time. Here, we only take very small steps in time $\\Delta t$ at each computation. \n",
        "\n",
        "The two fundamental equations are the following: \n",
        "\n",
        "\\begin{align}\n",
        "\\mathbf{x}(t+\\Delta t) &= \\mathbf{x}(t) + \\mathbf{v}(t)\\Delta t + \\frac{1}{2}\\mathbf{a}(t) \\Delta t^2 \\\\\n",
        "\\\\\n",
        "\\mathbf{v}(t+\\Delta t) &= \\mathbf{v}(t) + \\dfrac{\\mathbf{a}(t) + \\mathbf{a}(t + \\Delta t)}{2}\\Delta t \\\\\n",
        "%\n",
        "\\end{align}\n",
        "\n",
        "These equations may look complex, but actually, the algorithm is really straight-forward:\n"
      ]
    },
    {
      "cell_type": "markdown",
      "metadata": {
        "id": "Pp-pHjYFR1jg"
      },
      "source": [
        "#### Algorithmic steps\n",
        "\n",
        "1. Start from initial system state\n",
        "\n",
        "2. Calculate new position:\n",
        "$$\n",
        "\\mathbf{x}(t+\\Delta t) = \\mathbf{x}(t) + \\mathbf{v}(t)\\Delta t + \\frac{1}{2}\\mathbf{a}(t) \\Delta t^2\n",
        "$$\n",
        "\n",
        "3. Calculate intermediate velocity\n",
        "$$\n",
        "\\mathbf{v}(t+\\dfrac{1}{2}\\Delta t) = \\mathbf{v}(t) + \\dfrac{1}{2}\\mathbf{a}(t)\\Delta t\n",
        "$$\n",
        "\n",
        "4. Compute new acceleration $\\mathbf{a}(t+\\Delta t)$ using the new position $\\mathbf{x}(t+\\Delta t)$ (Oscillator energy at $\\mathbf{x}(t+\\Delta t)$ )\n",
        "\n",
        "5. Calculate new velocity \n",
        "$$\n",
        "\\mathbf{v}(t+\\Delta t) = \\mathbf{v}(t+\\dfrac{1}{2}\\Delta t) + \\dfrac{1}{2}\\mathbf{a}(t+\\Delta t) \\Delta t\n",
        "$$\n",
        "\n",
        "6. Go back to step 2 and repeat the process."
      ]
    },
    {
      "cell_type": "markdown",
      "metadata": {
        "id": "E7LQOgXCl8w6"
      },
      "source": [
        "Now let's get all this into code form by implementing the velocity Verlet algorithm in a single dimension. Therefore, $\\mathbf{r} \\to r $. We start with a classical pendulum with the potential energy $E_{pot}(r) = \\frac{1}{2}\\omega x^2$. So what's the force exerted here?"
      ]
    },
    {
      "cell_type": "code",
      "metadata": {
        "id": "ysQ0yLc4clRJ"
      },
      "source": [
        "#Visualize the potential energy as we did in Morse Potential\n",
        "import matplotlib.pyplot as plt\n",
        "\n",
        "def E_pot(r, omega):\n",
        "  return \n",
        "\n",
        "# r range from -10 to 10\n",
        "r_array=np.linspace(-10, 10, num=10000)\n",
        "\n",
        "# plot the Potential Energy curve\n",
        "\n"
      ],
      "execution_count": null,
      "outputs": []
    },
    {
      "cell_type": "markdown",
      "metadata": {
        "id": "TOt16lKHr6P2"
      },
      "source": [
        "**Task**: Build the velocity Verlet algorithm based on the template code you find below:"
      ]
    },
    {
      "cell_type": "code",
      "metadata": {
        "id": "oOc6nnoHcBsv"
      },
      "source": [
        "import numpy as np\n",
        "import matplotlib.pyplot as plt\n",
        "\n",
        "# Model system (a = F/m) \n",
        "def a(r, r_0=0.0, m=2.0, omega=0.2):\n",
        "  acc = -(omega * (r-r_0)) / m\n",
        "  return acc\n",
        "\n",
        "# Define the time parameters & a time grid for plotting\n",
        "dt = 0.01\n",
        "n_dt = 10000\n",
        "t = np.arange(n_dt) * dt\n",
        "\n",
        "# Define the start values of position r & v as well as\n",
        "r = 2.0\n",
        "r_store = np.zeros(n_dt)\n",
        "\n",
        "v = 0.0\n",
        "v_store = np.zeros(n_dt)\n",
        "\n",
        "\n",
        "# Main integration loop\n",
        "for i in range(n_dt):\n",
        "  r_fdt = r + v * dt + 0.5 * a(r) * dt**2  # Step 2\n",
        "  v_hdt = v + 0.5 * a(r) * dt              # Step 3\n",
        "  v_fdt = v_hdt + 0.5 * a(r_fdt) * dt      # Step 4: a(r_fdt) & Step 5 \n",
        "\n",
        "  # Update variables\n",
        "  r = r_fdt\n",
        "  v = v_fdt\n",
        "\n",
        "  # Store r & v in the storage arrays\n",
        "  r_store[i] = r\n",
        "  v_store[i] = v\n",
        "\n",
        "\n",
        "# Set up plotting (a bit fancier than you might remember)\n",
        "fig = plt.figure(figsize=(16,9))\n",
        "ax = fig.add_subplot(111)\n",
        "\n",
        "# Plotting the storage arrays against the time grid.\n",
        "ax.plot(t, r_store, color=\"#00aa00\")\n",
        "ax.plot(t, v_store, color=\"#aa0000\")\n",
        "\n",
        "# Show the plot\n",
        "plt.show()"
      ],
      "execution_count": null,
      "outputs": []
    },
    {
      "cell_type": "markdown",
      "metadata": {
        "id": "6i5uHeIPqlga"
      },
      "source": [
        "Aaand there you have it! Your first computation of physical meaning! 🎉 Congratulations!"
      ]
    }
  ]
}