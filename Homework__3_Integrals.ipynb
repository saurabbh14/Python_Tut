{
  "nbformat": 4,
  "nbformat_minor": 0,
  "metadata": {
    "colab": {
      "name": "Homework_#3_Integrals.ipynb",
      "provenance": [],
      "collapsed_sections": [],
      "toc_visible": true,
      "include_colab_link": true
    },
    "kernelspec": {
      "name": "python3",
      "display_name": "Python 3"
    }
  },
  "cells": [
    {
      "cell_type": "markdown",
      "metadata": {
        "id": "view-in-github",
        "colab_type": "text"
      },
      "source": [
        "<a href=\"https://colab.research.google.com/github/saurabbh14/Python_Tut/blob/main/Homework__3_Integrals.ipynb\" target=\"_parent\"><img src=\"https://colab.research.google.com/assets/colab-badge.svg\" alt=\"Open In Colab\"/></a>"
      ]
    },
    {
      "cell_type": "markdown",
      "metadata": {
        "id": "-jR15CuQZrpI"
      },
      "source": [
        "# Homework \\#3 -- Scientific computing\n",
        "\n",
        "In this second part of the programming lessons, we want to build a small Hartree-Fock quantum chemistry program in Python."
      ]
    },
    {
      "cell_type": "markdown",
      "metadata": {
        "id": "5NN6lZuTZ4lY"
      },
      "source": [
        "## 1 Basis functions\n",
        "\n",
        "\n",
        "One key element of the Hartree-Fock approach are overlap integrals of the basis functions. We will use Gaussian-type basis function with the form(`eta(mu,r)`):\n",
        "\n",
        "$$\n",
        "\\eta_\\mu(r) = n_\\mu \\cdot e^{-\\mu r^2 }\n",
        "$$\n",
        "\n",
        "<!--For this task we will operate in spherical coordinates, such that in theory, the basis function takes the form:\n",
        "\n",
        "$$\n",
        "\\eta_\\mu(r, \\theta, \\varphi) = n_\\mu \\cdot e^{-\\mu r^2 }\n",
        "$$\n",
        "\n",
        "Of course the function does not have a dependency on $\\theta$ and $\\varphi$, however, we still need to consider them later on. -->\n",
        "\n",
        "The parameter $\\mu$ is the exponent that defines the basis set. So now, our first task is to find out how to normalise the basis functions, as these Gaussian functions are generally not normalised out-of-the-box. In quantum chemistry, we define normalisation as follows. \"$\\mathbf{r}$\" resembles a three-dimensional space $\\mathbb{R}^3$ (such as cartesian or spherical coordinates):\n",
        "\n",
        "$$\n",
        "\\langle \\phi | \\phi \\rangle = \\int \\phi^*(\\mathbf{r}) \\phi(\\mathbf{r}) \\mathrm{d}\\mathbf{r} = 1\n",
        "$$\n"
      ]
    },
    {
      "cell_type": "markdown",
      "metadata": {
        "id": "mJVwd6BK9oGx"
      },
      "source": [
        "### 1.1 Normalise the basis functions (math)\n",
        "\n",
        "Your first task is to **find the value for the normalisation parameter $n_\\mu$**. To do so, solve the following integral for $n_\\mu$(`norm(mu)`):\n",
        "\n",
        "$$\n",
        "1 = \\int\\limits_0^{2\\pi}  \\int\\limits_0^{\\pi}  \\int\\limits_0^{\\infty} \\eta^*_\\mu(r) \\eta_\\mu(r)~r^2 \\mathrm{sin}\\theta~\\mathrm{dr}\\,\\mathrm{d\\theta}\\,\\mathrm{d\\varphi}\n",
        "$$\n",
        "\n",
        "Hints: \n",
        "- $\\int_0^\\infty x^2 e^{-ax^2} \\mathrm{d}x = \\dfrac{\\sqrt{\\pi}}{4 \\cdot a^ {3/2}}\\quad \\mathrm{for}\\quad \\Re(a) > 0$.\n",
        "\n",
        "- The first integral refers to $\\varphi$, the second to $\\theta$ and the last to $r$.\n",
        "- The integrals over $\\varphi$ and $\\theta$ should add up to a factor of $4\\pi$."
      ]
    },
    {
      "cell_type": "markdown",
      "metadata": {
        "id": "lMpsA8HQs4zr"
      },
      "source": [
        "**Write your answer here.** If you do not know the LaTeX notation, you can also write it as code below. Just double-click on this text cell to edit it."
      ]
    },
    {
      "cell_type": "markdown",
      "metadata": {
        "id": "JEBA3w0d9COR"
      },
      "source": [
        "### 1.2 Calculate the analytical overlap integral (math)\n",
        "\n",
        "Now that we have the normalised basis functions, we can continue. The second important quantity we need is the overlap between two basis functions. We denote this quantity as $s_{\\mu \\nu}$. Solve the following integration (the angular components are already integrated):\n",
        "\n",
        "$$\n",
        "s_{\\mu \\nu} = 4  \\pi \\int\\limits_0^{\\infty} \\eta_\\nu(r) \\eta_\\mu(r)~r^2~\\mathrm{dr}\n",
        "$$"
      ]
    },
    {
      "cell_type": "markdown",
      "metadata": {
        "id": "hVEHwlYohfrL"
      },
      "source": [
        "**Write your answer here.** If you do not know the LaTeX notation, you can also write it as code below. Just double-click on this text cell to edit it."
      ]
    },
    {
      "cell_type": "markdown",
      "metadata": {
        "id": "C7_3MqfgtQyz"
      },
      "source": [
        "### 1.3 Implementing basis functions in Python (Fill in the Blanks)\n",
        "\n",
        "\n",
        "\n"
      ]
    },
    {
      "cell_type": "markdown",
      "metadata": {
        "id": "cloCz0BE89Wv"
      },
      "source": [
        "So now we start out building our integrals in Python. To see how the functions compare speed-wise, we will implement three similar approaches to the overlap integral:\n",
        "\n",
        "**Task**: **Implement the basis function** $\\eta_\\mu(r)$ in Python.\n",
        "The normalisation parameter $n_\\mu$ should be implemented as a function of $\\mu$ (write it `mu` in Python)\n"
      ]
    },
    {
      "cell_type": "code",
      "metadata": {
        "id": "Zw8QBr2qZWsW"
      },
      "source": [
        "#complete eta(mu,r) function\n",
        "import numpy as np\n",
        "import matplotlib.pyplot as plt\n",
        "\n",
        "\n",
        "# Define here the functiion n(mu)\n",
        "def n(mu):\n",
        "  norm=(2*mu/np.pi)**0.75  #check this equation with your ans to norm\n",
        "  return norm\n",
        "\n",
        "\n",
        "# Define here the function eta(mu, r) \n",
        "def eta(mu, r):\n",
        "  #gaussian=?\n",
        "  return gaussian\n",
        "\n",
        "# Now define some basis function and an array of `r` and plot the function\n",
        "mu = 0.5\n",
        "r = np.linspace(0, 5)\n",
        "p = eta(mu, r)\n",
        "\n",
        "plt.plot(r, p)"
      ],
      "execution_count": null,
      "outputs": []
    },
    {
      "cell_type": "markdown",
      "metadata": {
        "id": "i03otIMAETD6"
      },
      "source": [
        "### 1.4 Build the integration functions (advanced)"
      ]
    },
    {
      "cell_type": "markdown",
      "metadata": {
        "id": "r57tWNbEBgys"
      },
      "source": [
        "Now that we have the basis functions in place, we can think of the integrals (which are basically the most important quantity in a Hartree-Fock program). **Note:** integration is nothing but summing the function over given limit.\n",
        "\n",
        "1. We will take the naive approach by **calculating the integral via lists** and list comprehension. \n",
        "  - Here build a **function of two exponents `mu1` and `mu2` and an array of r values**.\n",
        "\n",
        "2. Refine the naive approach by **re-implementing the above function using numpy arrays**.\n",
        "\n",
        "3. Implement the **analytical integral** using your result.\n",
        "  - This function should only take two exponents `m1` and `m2`!\n",
        "\n",
        "In the end of the cell you find some code to actually take the time it takes for the function to run. In Colab notebooks, you can use \"magic commands\" (those with a `%` before that) such as `%timeit`. This will not work in standard Python!"
      ]
    },
    {
      "cell_type": "code",
      "metadata": {
        "id": "sbUGE9puEdH9"
      },
      "source": [
        "#put proper values in the place of  '?'\n",
        "import numpy as np\n",
        "import matplotlib.pyplot as plt\n",
        "\n",
        "# observe:(1) dr=r[2]-r[1]\n",
        "# observe:(2) we are using previously defined functions\n",
        "\n",
        "# Here goes the numerical integral using lists\n",
        "def numerical_integ(mu1, mu2, r):\n",
        "  # here goes your function\n",
        "  return 4*np.pi* sum([eta(mu1,ri)*eta(mu2,ri)*ri**2 for '?' in r])*(r[2]-r[1])\n",
        "\n",
        "\n",
        "# Here goes the numerical integral using numpy\n",
        "def numerical_integ_numpy(mu1, mu2, r):\n",
        "  # here goes your function\n",
        "  return 4*'?'* np.sum(eta(mu1,r)*eta(mu2,r)*r**2)*(r[2]-r[1])\n",
        "\n",
        "# Here goes the analytical integral\n",
        "def analyt_integ(mu1, mu2):\n",
        "  # here goes your function\n",
        "  return n(mu1)*n(mu2)*(np.pi/(mu1+mu2))**1.5\n",
        "\n",
        "\n",
        "# Define some test values\n",
        "mu1 = 1.0\n",
        "mu2 = 6\n",
        "x = np.linspace(0, 5, num=1000)\n",
        "\n",
        "# These statements give you a precise timing of the time it takes to run \n",
        "%timeit numerical_integ(mu1, mu2, x)\n",
        "%timeit numerical_integ_numpy(mu1, mu2, x)\n",
        "%timeit analyt_integ(mu1, mu2)\n",
        "\n",
        "# Print the results of each integration\n",
        "print(numerical_integ(mu1, mu2, x))\n",
        "print(numerical_integ_numpy(mu1, mu2, x))\n",
        "print(analyt_integ(mu1, mu2))"
      ],
      "execution_count": null,
      "outputs": []
    },
    {
      "cell_type": "markdown",
      "metadata": {
        "id": "8rRlvtn7OQu_"
      },
      "source": [
        "## 2 Calculating $\\pi$ using random numbers (Appreciating Monte Corlo)\n",
        "\n",
        "A very peculiar thing to do is calculate the value of $\\pi$.\n",
        "As you might know, $\\pi$ is an irrational number and therefore, cannot be easily calculated using fractions. So one approach to calculate $\\pi$ is by using its properties as the circle number.\n",
        "\n",
        "![alt text](https://upload.wikimedia.org/wikipedia/commons/1/1f/Pi_statistisch.png)\n",
        "\n",
        "The idea is the following: The ratio of the area of a circle relative to the area of a square gives you $\\frac{\\pi}{4}$:\n",
        "\n",
        "$$\n",
        "\\dfrac{\\mathrm{Area~of~circle}}{\\mathrm{Area~of~square}} = \\dfrac{\\pi \\cdot r^2}{(2r)^2} = \\dfrac{\\pi}{4}\n",
        "$$\n",
        "\n",
        "In order to approach the area statistically, we can generate a large amount of random points in the square and then ask Python whether the point is within the circle (see the image, the red dots). The condition is:\n",
        "\n",
        "$$\n",
        "x^2 + y^2 \\le 1\n",
        "$$\n",
        "\n",
        "So, how to go over it:\n",
        " - Initiate two variables: \n",
        "    1. The total number of points, e.g. `nr_total = 100000`\n",
        "    1. the number of points within the circle, has to be `nr_circle = 0`\n",
        " - Build a `for` loop over the number of random points you want, `nr_total`.\n",
        " - Then generate two random numbers for it, one `x` and one `y` value. Use the the `random.random()` function from the `random` library for both. The function generates a random float in the interval $[0, 1.0)$.\n",
        " - Then use an `if-else` statement to ask Python whether the point (x,y) is within the circle (with the condition above)\n",
        " - If the answer is `True`, then add `1` to the `nr_circle` variable.\n",
        " - After the loop, calculate $\\pi$ using the formula above. The area of the circle is corresponding to the number of points in the circle."
      ]
    },
    {
      "cell_type": "code",
      "metadata": {
        "id": "ilewI3Qjchlm"
      },
      "source": [
        "#As such no task here...\n",
        "#Just appreciate the beauty of random numbers and Mote Carlo method\n",
        "import random\n",
        "import timeit\n",
        "\n",
        "def Monte_carlo_pi():\n",
        "  # Initialise the variables\n",
        "  #check how the accuracy of your result depends on number of points nr_total\n",
        "  nr_total=10000   #increase and decrease and compare.\n",
        "\n",
        "  nr_circle=0\n",
        "\n",
        "  # Build the for loop:\n",
        "  for i in range(nr_total):\n",
        "    x=random.random()\n",
        "    y=random.random()\n",
        "\n",
        "    if (x**2+y**2) <= 1.0:\n",
        "      nr_circle=nr_circle+1\n",
        "\n",
        "  pi=4.0*(nr_circle/nr_total)\n",
        "  return pi\n",
        "\n",
        "print(Monte_carlo_pi())\n",
        "%timeit Monte_carlo_pi"
      ],
      "execution_count": null,
      "outputs": []
    },
    {
      "cell_type": "markdown",
      "metadata": {
        "id": "XV5YLomoiy3l"
      },
      "source": [
        "## 3 Fill-in-the blanks: Matrix multiplication"
      ]
    },
    {
      "cell_type": "markdown",
      "metadata": {
        "id": "BOdms6MEojy7"
      },
      "source": [
        "In this last task you will build the matrix multiplication function from notebook #2. In order to get a working function, you need to, first, fill in the blanks, indicated by `< ... >` characters and, second, put the parts together in the correct order (and indentation level!).\n",
        "\n",
        "\n",
        "**The math you may need for it:** Assume we have two matrices $\\mathbf{A}$ and $\\mathbf{B}$ with elements $a_{ij}$ and $b_{jk}$ (the indices with the same letter *have* to match!), we can multiply them to get a matrix $\\mathbf{C}$ with elements $c_{ik}$ like so:\n",
        "\n",
        "$$\n",
        "c_{ik} = \\sum\\limits_j a_{ij} \\cdot b_{jk} \n",
        "$$\n",
        "\n",
        "This, of course, has to be conducted *for every entry* of $i$ and $k$.\n",
        "\n"
      ]
    },
    {
      "cell_type": "code",
      "metadata": {
        "id": "xkgfXT1diwWs"
      },
      "source": [
        "# --> Fill in the '*****'! <--\n",
        "\n",
        "matrix1 = [[3, -6], \n",
        "           [-9, 1],\n",
        "           [ 3, 5]]\n",
        "\n",
        "matrix2 = [[2, 4, -6], \n",
        "           [1, -9, 2]]\n",
        "\n",
        "#matrix multiplication step by step\n",
        "# 1. Check the inner and outer indices\n",
        "dim1_outer=len(matrix1)\n",
        "dim1_inner=len(matrix1[0])\n",
        "dim2_outer=len(matrix2)\n",
        "dim2_inner=len(matrix2[0])\n",
        "if dim1_inner == '******':\n",
        "  print('Dimensions match!!!')\n",
        "else:\n",
        "  raise Exception(\"Dimensions do not match.\")\n",
        "\n",
        "\n",
        "# 2. Build a new matrix (a matrix of zeros.)\n",
        "col_2 = dim1_outer\n",
        "row_1 = dim2_inner\n",
        "\n",
        "# Hint: Wherever you do not need a loop variable, in Python you usually assign\n",
        "# it to an underscore character `_`. (It's just a convention under developers.)\n",
        "res = [ [0. for _ in range(col_2)] for _ in range('*****') ]\n",
        "\n",
        "\n",
        "# 3. Build the computation itself\n",
        "# Hint: To index an element of the inner list, \n",
        "# you can concatenate the indexing --> matrix[1][1]\n",
        "inner = dim1_inner\n",
        "for i in range(row_1):\n",
        "  for k in range(col_2):\n",
        "    res[i][k] = sum([matrix1[i][j]*matrix2[j][k] for '*****' in range(inner)])\n",
        "\n",
        "print(res)\n",
        "\n",
        "# --> Now put all the parts together <--\n",
        "#--> Use copy and paste from uppersteps ;) <--\n",
        "def matrix_matrix(m1, m2):\n",
        "  # 1. Check the inner and outer indices\n",
        "  '*********************************************'\n",
        "\n",
        "  # 2. The new matrix (a matrix of zeros.)\n",
        "  '*********************************************'\n",
        "\n",
        "  # 3. The computation itself\n",
        "  '*********************************************'\n",
        "\n",
        "  return res\n",
        "\n",
        "\n",
        "# --> Get to trying out <--\n",
        "# Test your function\n",
        "mres = matrix_matrix(matrix1, matrix2)\n",
        "#print(mres)\n",
        "# As a test that our calculation is correct (we will get to that later)\n",
        "import numpy as np\n",
        "mres_np = list(np.matmul(matrix1, matrix2))\n",
        "\n",
        "np.all(np.array(mres) == mres_np)"
      ],
      "execution_count": null,
      "outputs": []
    }
  ]
}