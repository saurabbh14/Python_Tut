{
  "nbformat": 4,
  "nbformat_minor": 0,
  "metadata": {
    "colab": {
      "name": "Homework_no_1_for_Python_programming_2020.ipynb",
      "provenance": [],
      "collapsed_sections": [],
      "toc_visible": true,
      "include_colab_link": true
    },
    "kernelspec": {
      "name": "python3",
      "display_name": "Python 3"
    }
  },
  "cells": [
    {
      "cell_type": "markdown",
      "metadata": {
        "id": "view-in-github",
        "colab_type": "text"
      },
      "source": [
        "<a href=\"https://colab.research.google.com/github/saurabbh14/Python_Tut/blob/main/Homework_no_1_for_Python_programming_2020.ipynb\" target=\"_parent\"><img src=\"https://colab.research.google.com/assets/colab-badge.svg\" alt=\"Open In Colab\"/></a>"
      ]
    },
    {
      "cell_type": "markdown",
      "metadata": {
        "id": "ztJ3vz83eesI"
      },
      "source": [
        "# Homework / Voluntary tasks to get to know Python\n",
        "\n",
        "The following tasks are thought as a complement to the Python programming lessons in the Advanced Simulation Techniques module for the Chemistry of Materials Masters program. I do encourage you to do the tasks and persevere until you actually finish them! \n",
        "\n",
        "The zero'th section is more of a recap and for your own understanding. Have some fun with it. :)\n",
        "\n",
        "**If you can not answer the questions, don't worry, you can ask me those during the tutorial and then you can go back and answer it, in this notebook.**"
      ]
    },
    {
      "cell_type": "markdown",
      "metadata": {
        "id": "9KSkWRq_JWvz"
      },
      "source": [
        "## 0 » If else statements\n",
        "\n",
        "Before I let you loose on the tasks, let me give you a quick introduction into **conditional statements**. \n",
        "\n",
        "In case you want to ask Python a question (a yes/no question to be precise) and have the program flow altered by the answer, you need conditionals.\n",
        "\n",
        "In Python, you use comparisons to ask a question a la:\n",
        "\n",
        "- Is this number stored in `x` lower than 10? --> In Python: `x < 10`, \n",
        "- is this number stored in `x` exactly 10? --> In Python: `x == 10`,\n",
        "- and so on ...\n",
        "\n",
        "Now, if you want to check a condition and run code specific to the result, use an `if`-`else` statement:"
      ]
    },
    {
      "cell_type": "code",
      "metadata": {
        "id": "QK_MSEqAJWIb",
        "colab": {
          "base_uri": "https://localhost:8080/",
          "height": 51
        },
        "outputId": "0925d42d-488f-4f28-d9c3-c6dce5affcfb"
      },
      "source": [
        "# Run the `input()` function and see what it does!\n",
        "x = input(\"Give your number! \")\n",
        "\n",
        "# What do I do with the `int()` function\n",
        "if int(x) < 10:\n",
        "  # This block is executed when the question `x < 10` returns True\n",
        "  print(\"Your number is lower than 10.\")\n",
        "  \n",
        "else: \n",
        "  # This block is executed when the question `x < 10` returns False\n",
        "  print(\"Your number is not lower than 10.\")\n",
        "\n"
      ],
      "execution_count": null,
      "outputs": [
        {
          "output_type": "stream",
          "text": [
            "Give your number! 2\n",
            "Your number is lower than 10.\n"
          ],
          "name": "stdout"
        }
      ]
    },
    {
      "cell_type": "markdown",
      "metadata": {
        "id": "HJhjZ6CoK8qe"
      },
      "source": [
        "Note that here, the line with the `if` on it starts with an `if`, then you ask your question and end the line with a colon `:` .\n",
        "\n",
        "If the result of the question is `True`, the block of code directly below will be executed.\n",
        "\n",
        "If the result of the question is `False`, the block of code directly below will *NOT* be executed. \n",
        "\n",
        "There is one additional feature. If you want to check a number of conditions one after another, you can ask multiple questions using the `elif` (short for `else if`) statement:\n",
        "\n"
      ]
    },
    {
      "cell_type": "code",
      "metadata": {
        "id": "sZpPYx69K76_",
        "colab": {
          "base_uri": "https://localhost:8080/",
          "height": 54
        },
        "outputId": "bbf588c0-3313-462d-a0af-aa2afb3344d4"
      },
      "source": [
        "# Run the `input()` function and see what it does!\n",
        "x = input(\"Give your number! \")\n",
        "\n",
        "# What do I do with the `int()` function\n",
        "if int(x) < 10:\n",
        "  # This block is executed when the question `x < 10` returns True\n",
        "  print(\"Your number is lower than 10.\")\n",
        "\n",
        "elif int(x) == 10:\n",
        "  # This block is executed when the question `x == 10` returns True\n",
        "  print(\"Your number is exactly 10.\")\n",
        "\n",
        "else: \n",
        "  # This block is executed when all other questions return False\n",
        "  print(\"Your number is not lower than 10.\")\n"
      ],
      "execution_count": null,
      "outputs": [
        {
          "output_type": "stream",
          "text": [
            "Give your number! 10\n",
            "Your number is exactly 10.\n"
          ],
          "name": "stdout"
        }
      ]
    },
    {
      "cell_type": "markdown",
      "metadata": {
        "id": "JjT-i5u-rXtj"
      },
      "source": [
        "Of course, you can use these constructs everywhere you like (such as in a function) to alter your program flow based on these questions. Now try the tasks below. If you encounter problems and you don't know what to do, shoot me an email at saurabh.mhatre@uni-jena.de ."
      ]
    },
    {
      "cell_type": "markdown",
      "metadata": {
        "id": "4saYLoRqg4GH"
      },
      "source": [
        "## 1 » Code comprehension\n",
        "\n",
        "In this task, take the following code, try to run it and find out what it does(**Hint:** it's a guessing game). Answer the following questions:\n",
        "\n",
        "1. What does `import random` do? What does `random.randint()` return?\n",
        "2. What is the point of the `while` statement?\n",
        "3. What does the function `input()` do?\n",
        "\n",
        "(**Note:** The following code has no errors. You are just meant to understand the code and answer above questions)"
      ]
    },
    {
      "cell_type": "code",
      "metadata": {
        "id": "QMS5gznfiXNO"
      },
      "source": [
        "import random\n",
        "\n",
        "game_is_running = True\n",
        "\n",
        "target = random.randint(1,100)\n",
        "\n",
        "# Hint: `while game_is_running:` is the same as `while game_is_running == True:`\n",
        "while game_is_running:\n",
        "    # \n",
        "    guess = input(\"Your guess:\")\n",
        "    guess = int(guess)\n",
        "    # \n",
        "    if guess == target:\n",
        "        print(\"Congratulations!\")\n",
        "        game_is_running = False\n",
        "    elif guess > target:\n",
        "        print(\"Too large\")\n",
        "    else:\n",
        "        print(\"Too small\")"
      ],
      "execution_count": null,
      "outputs": []
    },
    {
      "cell_type": "markdown",
      "metadata": {
        "id": "rkrBofhmkvlz"
      },
      "source": [
        "**Answer goes here: (double click on the cell, you want to edit and just switch to another cell in order to save the text changes save)**\n",
        "\n",
        "Ans 1.\n",
        "\n",
        "\n",
        "Ans 2.\n",
        "\n",
        "Ans 3."
      ]
    },
    {
      "cell_type": "markdown",
      "metadata": {
        "id": "03u_JhN7zXJK"
      },
      "source": [
        "### 1.1 » Make it more personal!\n",
        "\n",
        "Modify the program above to have Python ask for your name. Then use this name to congratulate you once you finish. **Hint**: You can glue strings together using the `+` operator. E.g., `\"Hello \" + \"World\"` gives you `\"Hello World\"` "
      ]
    },
    {
      "cell_type": "code",
      "metadata": {
        "id": "lUT3mGIQ0aT1"
      },
      "source": [
        "# Modify this program to congratulate you personally!\n",
        "\n",
        "import random\n",
        "\n",
        "game_is_running = True\n",
        "\n",
        "target = random.randint(1,100)\n",
        "Name=input('What is your name?')\n",
        "\n",
        "# Hint: `while game_is_running:` is the same as `while game_is_running == True:`\n",
        "while game_is_running:\n",
        "    # \n",
        "    guess = input(\"Your guess:\")\n",
        "    guess = int(guess)\n",
        "    # \n",
        "    if guess == target:\n",
        "        print(\"Congratulations!\",Name)\n",
        "        game_is_running = False\n",
        "    elif guess > target:\n",
        "        print(\"Too large\")\n",
        "    else:\n",
        "        print(\"Too small\")"
      ],
      "execution_count": null,
      "outputs": []
    },
    {
      "cell_type": "markdown",
      "metadata": {
        "id": "uc22lPuvg2bi"
      },
      "source": [
        "## 2 » Defining Function\n",
        "\n",
        "As we have learned in the first tutorial how to define functions in python. Let's define a basic binomial function $f(x,y)=(x+y)^{2}$. As we all know this can also be written as $x^{2}+2xy+y^{2}$.\n",
        "\n",
        "**Task**: Write above function in Python code. This function will be taking two values as a input $x$ and $y$ and should return answer of the function. (For example, if $x=2$ and $y=1$, the function should return $9$.). If possible also get the middile term $2xy$ as output. "
      ]
    },
    {
      "cell_type": "code",
      "metadata": {
        "id": "Dgky_L1Lec2N"
      },
      "source": [
        "# Here goes the binomial function. Call the function `binomial()`\n",
        "\n",
        "\n"
      ],
      "execution_count": null,
      "outputs": []
    }
  ]
}