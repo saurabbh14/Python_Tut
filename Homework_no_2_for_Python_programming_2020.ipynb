{
  "nbformat": 4,
  "nbformat_minor": 0,
  "metadata": {
    "colab": {
      "name": "Homework_no_2_for_Python_programming_2020.ipynb",
      "provenance": [],
      "collapsed_sections": [],
      "toc_visible": true,
      "include_colab_link": true
    },
    "kernelspec": {
      "name": "python3",
      "display_name": "Python 3"
    }
  },
  "cells": [
    {
      "cell_type": "markdown",
      "metadata": {
        "id": "view-in-github",
        "colab_type": "text"
      },
      "source": [
        "<a href=\"https://colab.research.google.com/github/saurabbh14/Python_Tut/blob/main/Homework_no_2_for_Python_programming_2020.ipynb\" target=\"_parent\"><img src=\"https://colab.research.google.com/assets/colab-badge.svg\" alt=\"Open In Colab\"/></a>"
      ]
    },
    {
      "cell_type": "markdown",
      "metadata": {
        "id": "ztJ3vz83eesI"
      },
      "source": [
        "# Homework / Voluntary tasks to get to know Python\n",
        "\n",
        "The following tasks are thought as a complement to the Python programming lessons in the Advanced Simulation Techniques module for the Chemistry of Materials Masters program. I do encourage you to do the tasks and persevere until you actually finish them! \n",
        "\n",
        "The zero'th section is more of a recap and for your own understanding. Have some fun with it. :)\n",
        "\n",
        "**If you can not answer the questions, don't worry, you can ask me those during the tutorial and then you can go back and answer it, in this notebook.**"
      ]
    },
    {
      "cell_type": "markdown",
      "metadata": {
        "id": "JjT-i5u-rXtj"
      },
      "source": [
        "If you encounter problems and you don't know what to do, shoot me an email at saurabh.mhatre@uni-jena.de . Let's get started then!"
      ]
    },
    {
      "cell_type": "markdown",
      "metadata": {
        "id": "4saYLoRqg4GH"
      },
      "source": [
        "## 1 » Basics again!\n",
        "\n",
        "Let's do some revision. As we plotted Mohr's potential, now let's appriciate the Gaussian function sometimes known as 'Bell-shaped' curve $$ g_{\\mu}(r)= e^{-\\mu.(r-r_{i})^{2}}$$ \n",
        "\n",
        "1.   Define the Gaussian function `gaussian()` (as we did Mohr's potential) \n",
        "2.   Generate a list of $r$ values from $[-5:5]$ with increment of $0.1$ (remember `range()` function and $r_{i}=0.0$, check what happens if you change the value of $r_{i}$)\n",
        "3.   Calcuate corresponding Gaussian function values for the $r$ values.($\\mu = 1$)\n",
        "4.   Plot the function.\n",
        "\n",
        "**for extra points**: Your function should take $\\mu$ as a input and you should be able to input $\\mu$ externallly using `input()` function\n",
        "\n",
        "\n",
        "\n",
        "\n"
      ]
    },
    {
      "cell_type": "code",
      "metadata": {
        "id": "QMS5gznfiXNO"
      },
      "source": [
        "#Here goes your code!"
      ],
      "execution_count": null,
      "outputs": []
    },
    {
      "cell_type": "markdown",
      "metadata": {
        "id": "03u_JhN7zXJK"
      },
      "source": [
        "### 2 »Fibonacci series (advanced)...(Define a function)\n",
        "\n",
        "This is a classic exercise to get students to understand the mathematic concept of *recursion*. Recursionism, in simplified computer terms, the idea that a function calls itself when it is called. Thereby it generates an implicit \"loop\" until a \"final\" statement is reached and the \"loop\" breaks.\n",
        "\n",
        "The Fibonacci series includes the values 0, 1, 1, 2, 3, 5, 8, 13, 21, and so on. \n",
        "\n",
        "It is comprised by $f(0) = 0$ , $f(1)=1$and $f(n) = f(n-1) + f(n-2)$. You see that the function $f$ calls itself.\n",
        "\n",
        "**Task**: **Write a function** in Python code. (You will need an if-else statement (see the notebook #2 for that) to check whether the base case ($n=0$) is reached yet.). \n",
        "\n",
        "1.   define the function `fib()`\n",
        "2.   this function should return a list of $n$ numbers in the Fibonacci series.\n",
        "3.   your program should ask for, how many numbers to generate as input(use `input()` function and change the string to integer as we have seen in the last homework).\n",
        "4.   print the list of $n$ Fibonacci numbers.\n",
        "\n"
      ]
    },
    {
      "cell_type": "code",
      "metadata": {
        "id": "lUT3mGIQ0aT1"
      },
      "source": [
        "# Here goes the Fibonacci function. Call the function `fib()`\n"
      ],
      "execution_count": null,
      "outputs": []
    },
    {
      "cell_type": "markdown",
      "metadata": {
        "id": "uc22lPuvg2bi"
      },
      "source": [
        "## 3 » Vectors lengths and dot product\n",
        "\n",
        "Dot product between two vectors $v$ and $w$ goes as follows,\n",
        "$$v.w= \\sum_{i}^{n} v_i w_i$$ \n",
        "\n",
        "**Tasks**:  Write a function that takes to vectors and which \n",
        "\n",
        "1.   checks whether the length of both vectors are the same! Hint: use the `len()` function. If the vectors have the same length, have the function return `True`, else `False`. \n",
        "\n",
        "2.   write a dot product code. Hint: use `sum()` function\n",
        "\n"
      ]
    },
    {
      "cell_type": "code",
      "metadata": {
        "id": "Dgky_L1Lec2N"
      },
      "source": [
        "# Here you go\n",
        "vec1=[4,5,6]\n",
        "vec2=[5,8,2]\n",
        "\n",
        "def vec_mult(v1,v2):\n",
        "  #1.check the length of each vector, remember we need the vectors with same\n",
        "  #length for dot product\n",
        "\n",
        "\n",
        "  #2.use loops or list comprehension to build the computation\n",
        "\n",
        "  \n",
        "  return\n"
      ],
      "execution_count": null,
      "outputs": []
    }
  ]
}