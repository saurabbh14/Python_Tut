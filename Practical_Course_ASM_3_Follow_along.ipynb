{
  "nbformat": 4,
  "nbformat_minor": 0,
  "metadata": {
    "colab": {
      "name": "Practical_Course_ASM_3_Follow_along.ipynb",
      "provenance": [],
      "collapsed_sections": [],
      "include_colab_link": true
    },
    "kernelspec": {
      "name": "python3",
      "display_name": "Python 3"
    }
  },
  "cells": [
    {
      "cell_type": "markdown",
      "metadata": {
        "id": "view-in-github",
        "colab_type": "text"
      },
      "source": [
        "<a href=\"https://colab.research.google.com/github/saurabbh14/Python_Tut/blob/main/Practical_Course_ASM_3_Follow_along.ipynb\" target=\"_parent\"><img src=\"https://colab.research.google.com/assets/colab-badge.svg\" alt=\"Open In Colab\"/></a>"
      ]
    },
    {
      "cell_type": "markdown",
      "metadata": {
        "id": "JdHjEobvi9c2"
      },
      "source": [
        "# Getting serious in Python\n",
        "\n",
        "So, now that you know all the basics of the Python programming language, let's get a bit more in-depth today! We will start with our first real scientific computation and get to know tools more adequate for the scientific scope of Python than `list` containers and list comprehension. \n"
      ]
    },
    {
      "cell_type": "markdown",
      "metadata": {
        "id": "zB7p1bRrkxnl"
      },
      "source": [
        "## Short recap\n",
        "\n",
        "But before we start, let's go over the things you learnt so far.\n",
        "\n",
        "Here is a (not anymore so) short list of all the concepts you got to know already:\n",
        "\n",
        "- Hello World\n",
        "- Calling functions (`print()`, `math.exp()`)\n",
        "- Basic data types in Python (`bool`, `float`, `int`, `str`)\n",
        "- Math operations in Python (`+, -, *, /, //, %`)\n",
        "- Defining functions (`morse()`)\n",
        "- Loops (`for` and `while`)\n",
        "- Lists (`[1, 2, 3, 4]`)\n",
        "  - list indexing (`item_at_index = l[index]`)\n",
        "  - list slicing (`sublist_until_index = l[:index]`)\n",
        "  - list comprehension (`[func(x) for x in list_of_x]`)\n",
        "- A basic representation of vectors in Python (as a `list`)\n",
        "- A basic representation of matrices in Python (as a list of lists: `[[1,1], [1,2]]`)\n",
        "- If-else statements (asking questions, making decisions)\n",
        "\n",
        "Did you encounter any problems, syntax errors or other issues in your home-based Python journey? "
      ]
    },
    {
      "cell_type": "code",
      "metadata": {
        "id": "5yWA3HXKi8Gg"
      },
      "source": [
        "# Code playground for questions, remarks, comments\n",
        "\n"
      ],
      "execution_count": null,
      "outputs": []
    },
    {
      "cell_type": "markdown",
      "metadata": {
        "id": "gA75AmVunX19"
      },
      "source": [
        "## Introducing I/O\n",
        "\n",
        "Until now, all we did was crush numbers internally. Most of you will work as experimentalists where you will encounter large amounts of measured spectra that you may want to process using Python. \n",
        "\n",
        "This is where I/O comes in, which is short of input/output. This is the large topic of reading data from a file (**input**), processing the data in it and writing new information to a file (**output**).\n",
        "\n",
        "Our first goal will be to read vectors and matrices from files. To write a file in Colab (one that we can read), go to the \"Files\"-Tab on the right-hand side and on right click, you can upload a file from your computer. \n",
        "\n",
        "Otherwise just use the code below, it generates a file called `matrix.txt` in the folder `content`. \n",
        "\n",
        "The `!` signs at the beginning of the line indicate that this code is not run in Python, but in the Linux command line (a programming language called `bash`).\n",
        "\n",
        "\n",
        "The `path` is an instruction for the computer where to locate a certain file. In Windows, paths look like `C:\\Program Files\\...`\n",
        ", whereas in Linux paths start with a `/` (which is the base folder of the system), so here, our path is `/content/matrix.txt`.\n",
        "\n"
      ]
    },
    {
      "cell_type": "code",
      "metadata": {
        "id": "h7Ikm5dMwpJt",
        "colab": {
          "base_uri": "https://localhost:8080/",
          "height": 85
        },
        "outputId": "f34e4730-04ea-43cd-f9a2-fadab7760ce8"
      },
      "source": [
        "# This is a short Linux command to generate a matrix file\n",
        "! printf '3:3\\n1, 2, 3\\n2, 3, 7\\n11, 5, 6\\n' > /content/matrix.txt\n",
        "\n",
        "# You can view the content of the file using the following command:\n",
        "! cat /content/matrix.txt"
      ],
      "execution_count": null,
      "outputs": [
        {
          "output_type": "stream",
          "text": [
            "3:3\n",
            "1, 2, 3\n",
            "2, 3, 7\n",
            "11, 5, 6\n"
          ],
          "name": "stdout"
        }
      ]
    },
    {
      "cell_type": "markdown",
      "metadata": {
        "id": "4Fjrw0CJApPW"
      },
      "source": [
        "### Direct user input\n",
        "\n",
        "If you want to ask the user of your program a question, you can use the `input()` function. In the parantheses put the question that you want to ask as a string. The return value (that you typically assign to a variable) is always a `str`ing.\n",
        "\n",
        "See an example here:"
      ]
    },
    {
      "cell_type": "code",
      "metadata": {
        "id": "zG4Wm12JBG2J"
      },
      "source": [
        "# Test ground\n",
        "name = input(\"What's your name? \")\n",
        "print(\"Hello, \" + name + \"!\")\n"
      ],
      "execution_count": null,
      "outputs": []
    },
    {
      "cell_type": "markdown",
      "metadata": {
        "id": "2gFiqn3rBeAT"
      },
      "source": [
        "You find more exercise on user input using the `input()` function in the last homework notebook. As the function really is neither particularly interesting nor (in the grand scheme of things) exceptionally useful, let's continue with files!"
      ]
    },
    {
      "cell_type": "markdown",
      "metadata": {
        "id": "4VW8uc5zEaVt"
      },
      "source": [
        "### Reading and writing files"
      ]
    },
    {
      "cell_type": "markdown",
      "metadata": {
        "id": "KuU9BNb3QMT6"
      },
      "source": [
        "#### Reading files\n",
        "\n",
        "Now that we have a file, we can open and read it using Python. There are two possible ways to open a file in Python. \n",
        "\n",
        "The first one you see here:"
      ]
    },
    {
      "cell_type": "code",
      "metadata": {
        "id": "HT3x_RGtExos",
        "colab": {
          "base_uri": "https://localhost:8080/",
          "height": 34
        },
        "outputId": "e55d28fa-3d04-4ef9-a32d-8aa3a9eb2b76"
      },
      "source": [
        "# Open the file. The string is the `path` to the file. The second \n",
        "# arguments denotes what you intent to do with the file. \"r\" means 'read only'.\n",
        "f = open(\"/content/matrix.txt\", \"r\")\n",
        "\n",
        "# Read the file. The `readlines()` method reads the entire content of the file \n",
        "# into a list of strings with each string being one line.\n",
        "content = f.readlines()\n",
        "\n",
        "# In this method, you explicitely need to close the file to avoid potential \n",
        "# corruption of the file\n",
        "f.close()\n",
        "\n",
        "# Now you can do things with the file, for example, print it:\n",
        "print(content)\n",
        "#print(f)\n"
      ],
      "execution_count": null,
      "outputs": [
        {
          "output_type": "stream",
          "text": [
            "['3:3\\n', '1, 2, 3\\n', '2, 3, 7\\n', '11, 5, 6\\n']\n"
          ],
          "name": "stdout"
        }
      ]
    },
    {
      "cell_type": "markdown",
      "metadata": {
        "id": "7pga_nD-JO8x"
      },
      "source": [
        "The second possibility is shown here. In this approach, you don't need to close the file. It will be closed automatically as soon as the indented block after the `with`-line ends."
      ]
    },
    {
      "cell_type": "code",
      "metadata": {
        "id": "Nt350wyrJUtc"
      },
      "source": [
        "# Open the file. The string is the `path` to the file.\n",
        "with open(\"/content/matrix.txt\", \"r\") as f:  #`f` is assigned automatically.\n",
        "  headerl = f.readline()   # reads the first line\n",
        "  content = f.readlines()  # reads the rest of the lines\n",
        "\n",
        "# Now you can do things with the file, for example, print it:\n",
        "print(headerl)\n",
        "print(content)\n"
      ],
      "execution_count": null,
      "outputs": []
    },
    {
      "cell_type": "markdown",
      "metadata": {
        "id": "0WT0iYqg3q3D"
      },
      "source": [
        "\n",
        "Remember that all these lines are still of the type `string`. That means that we *cannot* yet use our matrix or vector functions on it. We need to process that data beforehand."
      ]
    },
    {
      "cell_type": "markdown",
      "metadata": {
        "id": "e6oMRPueRBE7"
      },
      "source": [
        "#### Processing the data\n",
        "\n",
        "Now that we have the raw data, we can use it to generate our matrix of numbers.\n",
        "To do so, we need to process the strings that we got from the file reading.\n",
        "\n",
        "Three very helpful string functions are the string methods `.strip()`, `.split()` and `.join()`. Methods are functions that can be applied directly to a data type, like here:  "
      ]
    },
    {
      "cell_type": "code",
      "metadata": {
        "id": "KTUxhj6NiNxD",
        "colab": {
          "base_uri": "https://localhost:8080/"
        },
        "outputId": "f185cbe3-42d4-4fbc-a8c4-0739f4763e7e"
      },
      "source": [
        "test_str = \"   My grandma rides her motor-cycle in the chicken coop.\\n\"\n",
        "print(test_str)\n",
        "\n",
        "# The split() method splits strings. By default, it splits the string \n",
        "# at whitespaces (including newline characters).\n",
        "\n",
        "splitted_ws = test_str.split()\n",
        "\n",
        "\n",
        "print(splitted_ws)\n",
        "\n",
        "# You can also supply the method with a character to split at.\n",
        "splitted_ds = test_str.split(\"-\")\n",
        "#print(splitted_ds)\n",
        "\n",
        "# The strip() methods trims whitespaces and newline characters (\"\\n\") around a string.\n",
        "stripped = test_str.strip()\n",
        "#print(stripped)\n",
        "\n",
        "# The join() method joins a list of strings using a delimiter string.\n",
        "joined = \"+\".join(splitted_ws)\n",
        "#print(joined)\n",
        "\n",
        "# You can also chain these operations (they are applied from left to right).\n",
        "strip_splitted = test_str.strip().split(\"-\")\n",
        "#print(strip_splitted)"
      ],
      "execution_count": 9,
      "outputs": [
        {
          "output_type": "stream",
          "text": [
            "   My grandma rides her motor-cycle in the chicken coop.\n",
            "\n",
            "['My', 'grandma', 'rides', 'her', 'motor-cycle', 'in', 'the', 'chicken', 'coop.']\n"
          ],
          "name": "stdout"
        }
      ]
    },
    {
      "cell_type": "markdown",
      "metadata": {
        "id": "638tqpL9iNg_"
      },
      "source": [
        "**Task**: Now you go! Open the `matrix.txt` file from above (you may use the same code from above) and process the `headerl` and `content` strings by `strip`ping and `split`ting. Convert the strings in the lists to `float`s\n",
        "\n",
        "Hints: You can convert suitable strings to ints and floats using the `int()` and `float()` functions respectively. "
      ]
    },
    {
      "cell_type": "code",
      "metadata": {
        "id": "iDeRUMN8yRl_",
        "colab": {
          "base_uri": "https://localhost:8080/",
          "height": 51
        },
        "outputId": "267bafb1-abc8-4554-e32d-8100ea158812"
      },
      "source": [
        "# This is your function template\n",
        "def read_matrix(path_to_matrix):\n",
        "\n",
        "  # Read the data\n",
        " \n",
        "  #print(list1)\n",
        "  # Process the header to get a list of two integers (the outer and inner indices)\n",
        "\n",
        "  # Process the content\n",
        "\n",
        "\n",
        "read_matrix(\"/content/matrix.txt\")\n",
        "\n"
      ],
      "execution_count": null,
      "outputs": [
        {
          "output_type": "stream",
          "text": [
            "['1, 2, 3\\n', '2, 3, 7\\n', '11, 5, 6\\n']\n"
          ],
          "name": "stdout"
        },
        {
          "output_type": "execute_result",
          "data": {
            "text/plain": [
              "([3, 3], [[1.0, 2.0, 3.0], [2.0, 3.0, 7.0], [11.0, 5.0, 6.0]])"
            ]
          },
          "metadata": {
            "tags": []
          },
          "execution_count": 22
        }
      ]
    },
    {
      "cell_type": "markdown",
      "metadata": {
        "id": "feFo34XtyPoE"
      },
      "source": [
        "Great, now we can work with the matrix that we have saved in the file.\n",
        "\n",
        "**BONUS-Task**: Modify your `read_matrix()` function to contain the possibility to check whether the matrix actually has the required dimensions. Also check (using a `for` loop) whether all the inner dimensions match."
      ]
    },
    {
      "cell_type": "code",
      "metadata": {
        "id": "jNQzSkUP2KDt"
      },
      "source": [
        "# This is your function template\n",
        "def read_matrix(path_to_matrix):\n",
        "  # Read the data\n",
        "  with open(path_to_matrix, \"r\") as f: \n",
        "    headerl = f.readline()  \n",
        "    content = f.readlines() \n",
        "\n",
        "  # Process the header to get a list of two integers (the outer and inner indices)\n",
        "  indices = [int(str_int) for str_int in headerl.strip().split(\":\")]\n",
        "\n",
        "  # Process the content\n",
        "  matrix = [[float(item) for item in line.strip().split(\",\")] for line in content]\n",
        "  \n",
        "  # This part here is new!\n",
        "  #dim_outer = len(matrix) \n",
        "  #dim_inner = len(matrix[0])\n",
        "\n",
        "  #for row in matrix[1:]:\n",
        "   # if len(row) != len(matrix[0]):\n",
        "   #   raise Exception(\"The inner dimensions do not match\") \n",
        "\n",
        "  return indices, matrix\n",
        "\n",
        "\n",
        "indices, input_mat = read_matrix(\"/content/matrix.txt\")"
      ],
      "execution_count": null,
      "outputs": []
    },
    {
      "cell_type": "markdown",
      "metadata": {
        "id": "zceThqcxQFRB"
      },
      "source": [
        "#### Writing files\n",
        "\n",
        "Now that we have a product for the matrix multiplication, we may now want to store it back in a file. To do so, we need a function that can actually process that data back into strings and then write it back to a file.\n",
        "\n",
        "Using the `open()` function, you can also open files that are not yet created. Using the parameter `\"w\"` instead of `\"r\"` you tell Python to open the file writeable. You can also simply `str`ingify a numerical value using the `str` function.\n",
        "\n",
        "With the file handle (what we called `f`) comes a `.write(...)` as well as a `.writelines(...)` method that allows you to write a string or a list of strings (joined by newline characters) to the file represented by the handle.\n",
        "\n",
        "**Task**: Build a function that takes a matrix and a filename and that writes the matrix and its dimensions to the specified file. \n"
      ]
    },
    {
      "cell_type": "code",
      "metadata": {
        "id": "XDyYFPXm7aqP"
      },
      "source": [
        "# This is your function template\n",
        "def write_matrix(filename, matrix):\n",
        "  # First, process the data\n",
        "\n",
        "\n",
        "\n",
        "\n",
        "  return None\n",
        "\n",
        "\n",
        "# Now call the function\n",
        "write_matrix(\"/content/matrix_out.txt\", input_mat)\n",
        "\n",
        "# Use this code to look at the written file\n",
        "! cat \"/content/matrix_out.txt\""
      ],
      "execution_count": null,
      "outputs": []
    },
    {
      "cell_type": "markdown",
      "metadata": {
        "id": "5JobQgjwc49Y"
      },
      "source": [
        "## Science with Python & the `NumPy` library\n",
        "\n",
        "Now we have all the basics at hand to get going scientifically. The most prominent package in the scientific ecosystem in Python is called `numpy`. Numpy comes with its own, extremely powerful vector/array/list container type called `numpy.ndarray` (n-dimensional array). An array in computer programming is typically a data structure that has a set size and is homogeneous regarding its contents. This might seem like a disadvantage, however, it has some very specific advantages. \n",
        "\n",
        "These arrays are implemented to allow for *vectorised operations*, that means that one single operation (in code) is applied to all elements of the array at once. See the following example: "
      ]
    },
    {
      "cell_type": "code",
      "metadata": {
        "id": "mgyKTwP-gVg0",
        "colab": {
          "base_uri": "https://localhost:8080/",
          "height": 353
        },
        "outputId": "619e7ca0-d436-42de-be7f-16dfae0c5b27"
      },
      "source": [
        "import numpy as np\n",
        "import matplotlib.pyplot as plt\n",
        "\n",
        "# Our trusty old Morse potential function.\n",
        "# We only modify it by using the numpy version of `exp()`\n",
        "def morse(r):\n",
        "  beta = 2.203\n",
        "  d = 590.7\n",
        "  r_eq = 0.917\n",
        "\n",
        "  e = d * (1 - np.exp(-beta * (r-r_eq))) ** 2\n",
        "\n",
        "  return e\n",
        "\n",
        "# Generate a 1000-component index in a set interval of [0.5, 2.5]\n",
        "r_array = np.linspace(0.5, 2.5, num=1000) \n",
        "morse_array = morse(r_array)\n",
        "\n",
        "# You can index and slice them just like lists:\n",
        "print(\"First element: \", morse_array[0])\n",
        "print(\"Last element: \", morse_array[-1])\n",
        "\n",
        "# Like lists, ndarrays can be used in plotting\n",
        "plt.plot(r_array, morse_array)\n",
        "\n",
        "# You can even convert ndarrays to lists and vice versa\n",
        "m_list = list(morse_array)\n",
        "print(\"First element (list): \", m_list[0])\n",
        "print(\"Last element (list): \", m_list[-1])\n",
        "\n",
        "# The np.asarray function converts lists to ndarrays\n",
        "new_m_array = np.asarray(m_list)\n",
        "\n",
        "print(np.all(new_m_array == morse_array)) # See whether all the elements are the same"
      ],
      "execution_count": null,
      "outputs": [
        {
          "output_type": "stream",
          "text": [
            "First element:  1339.5645432926017\n",
            "Last element:  555.1230689151517\n",
            "First element (list):  1339.5645432926017\n",
            "Last element (list):  555.1230689151517\n",
            "True\n"
          ],
          "name": "stdout"
        },
        {
          "output_type": "display_data",
          "data": {
            "image/png": "[encoded data removed]",
            "text/plain": [
              "<Figure size 432x288 with 1 Axes>"
            ]
          },
          "metadata": {
            "tags": [],
            "needs_background": "light"
          }
        }
      ]
    },
    {
      "cell_type": "markdown",
      "metadata": {
        "id": "y5gTxNwxkFUu"
      },
      "source": [
        "The numpy library is extremely mature in that the array container supports a ton of operations and the numpy library includes a variety of specialised functions to work on arrays and matrices.\n",
        "\n",
        "Take for example the matrix multiplication. With Numpy, you will just write:"
      ]
    },
    {
      "cell_type": "code",
      "metadata": {
        "id": "h0Hl_1T6kySQ",
        "colab": {
          "base_uri": "https://localhost:8080/",
          "height": 85
        },
        "outputId": "2b3f4918-dfaf-4a8f-a6b3-62eb41ca1a6c"
      },
      "source": [
        "# Build two matrices. The .reshape() method, well, reshapes the array.\n",
        "matrix1 = np.arange(6).reshape([2,3])\n",
        "matrix2 = np.arange(12).reshape([3,4])\n",
        "\n",
        "# You can use the `@` operator ...\n",
        "res = matrix1 @ matrix2\n",
        "print(res)\n",
        "\n",
        "# ... or use the function `np.matmul()`\n",
        "res = np.matmul(matrix1, matrix2)\n",
        "print(res)\n"
      ],
      "execution_count": null,
      "outputs": [
        {
          "output_type": "stream",
          "text": [
            "[[20 23 26 29]\n",
            " [56 68 80 92]]\n",
            "[[20 23 26 29]\n",
            " [56 68 80 92]]\n"
          ],
          "name": "stdout"
        }
      ]
    },
    {
      "cell_type": "markdown",
      "metadata": {
        "id": "WfEFGajQnHcj"
      },
      "source": [
        "And this is just the very tip of the iceberg. From now on, we will mainly live in the Numpy ecosystem to build our scientific calculations."
      ]
    }
  ]
}