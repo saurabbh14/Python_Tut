{
  "nbformat": 4,
  "nbformat_minor": 0,
  "metadata": {
    "colab": {
      "name": "Praktical_Course_ASM_1_Follow_along.ipynb",
      "provenance": [],
      "collapsed_sections": [],
      "toc_visible": true,
      "include_colab_link": true
    },
    "kernelspec": {
      "name": "python3",
      "display_name": "Python 3"
    }
  },
  "cells": [
    {
      "cell_type": "markdown",
      "metadata": {
        "id": "view-in-github",
        "colab_type": "text"
      },
      "source": [
        "<a href=\"https://colab.research.google.com/github/saurabbh14/Python_Tut/blob/main/Praktical_Course_ASM_1_Follow_along.ipynb\" target=\"_parent\"><img src=\"https://colab.research.google.com/assets/colab-badge.svg\" alt=\"Open In Colab\"/></a>"
      ]
    },
    {
      "cell_type": "markdown",
      "metadata": {
        "id": "L67im2v_HwaN"
      },
      "source": [
        "# A small introduction to Python programming\n",
        "\n",
        "## First of all, what is programming about?\n",
        "\n",
        "We live in the digital age. Many everyday things run on computers and devices that are machines built to do calculations on bits (a discrete value of either 0 or 1, using [Boolean algebra](https://en.wikipedia.org/wiki/Boolean_algebra) as its basis). from a calculator to the fastest supercomputers on earth, the principle the exact same thing.\n",
        "\n",
        "Modern computers and the processing units on it (the parts that actually do the calculations, e. g. a central processing unit (CPU) in a personal computer) operates with a small set of instructions on how to work with bits and bytes (arrays of bits). So, the computer needs instructions in form of these commands. This so-called machine code is typically not human-readable. This is where programming languages come into play. \n",
        "\n",
        "We write more abstract (higher-level) commands and feed this information into specialised translators. These translators are able to tell the computer what we actually meant.\n",
        "\n",
        "The first programming language to be publicly receives was called Fortran (short for formula translation), built to allow scientists to easily write programs for the machines at that time. Since then, a ton of development has been made for new languages.\n",
        "\n",
        "Generally, there are two types of programming languages:\n",
        "- Compiled languages (such as Fortran, C, C++, Haskell): Here, a compiler program is required to translate the code to machine-readable information. The compiler generates a file that then can be executed. After each change in the code the compiler has to be re-run and the executable updated.\n",
        "\n",
        "- Interpreted languages (such as Python, Matlab, JavaScript): Here, instead of having a compiler generating an executable, an interpreter is used which dynamically (in the moment of reading the code) generates the machine-code instructions. Upon changing the code, the interpreter is restarted and the new program is run directly. \n",
        "\n",
        "For the practical course, we use the interpreted language Python, one of the most commonly used programming languages today. So let's get started!"
      ]
    },
    {
      "cell_type": "markdown",
      "metadata": {
        "id": "xsbgYO_JowQO"
      },
      "source": [
        "## Your first program\n",
        "\n",
        "So, the first program one usually writes in every programming language is a \"Hello World\" program. The goal is easy: We want to print the words \"Hello World\" to the screen (usually the command prompt). In the code field below, write the classical Python \"Hello World\".\n",
        "\n",
        "In Python, to print information to the screen, we use the `print()` function. The brackets indicate that this statement is to be executed by the interpreter. In the brackets, we put the information we want to be printed to the screen. Simple written words (text) has to be surrounded with `\"` characters to indicate that this is a `string` (a collection of printable characters). So, go ahead: "
      ]
    },
    {
      "cell_type": "code",
      "metadata": {
        "id": "a4B6okQBov0O"
      },
      "source": [
        "# This is a comment, it will not be read by the interpreter.\n",
        "print(\"Hello World\")"
      ],
      "execution_count": null,
      "outputs": []
    },
    {
      "cell_type": "markdown",
      "metadata": {
        "id": "wi5AIVRuqhvO"
      },
      "source": [
        "And there you have it, your first program. 🎉 \n",
        "\n",
        "If you were to run this program in a linux command line (Terminal, Konsole, ...), you could write the command into a file, save it as a `.py` file and use the Python interpreter (typically called `python3` on most Unix systems) with it like \n",
        "\n",
        "```bash\n",
        "# The $ sign indicates a command input in the Unix terminal, \n",
        "# '#' signs indicate a comment, like this one here. It is not executed.\n",
        "\n",
        "$ python3 helloworld.py \n",
        "Hello World\n",
        "```"
      ]
    },
    {
      "cell_type": "markdown",
      "metadata": {
        "id": "XZzxnzXgqQPE"
      },
      "source": [
        "## A slightly more complex program\n",
        "\n",
        "To increase difficulty a bit, let's introduce a key motif you will encounter in virtually every programming language: Variables.\n",
        "\n",
        "What are variables? Well, as the name suggests, variables can be variable, i. e. they can mean a number of things. In math and physics, variables such as $x$ can mean for example an unknown value, or in physics the position of some entity.\n",
        "\n",
        "So, it's very similar in programming. Variables are defined and values are then assigned the corresponding variable. See here:"
      ]
    },
    {
      "cell_type": "code",
      "metadata": {
        "id": "MmUweDgksZt9"
      },
      "source": [
        "# We define a variable called `x` and assign a value of the number 1337 to it\n",
        "x = 1337"
      ],
      "execution_count": null,
      "outputs": []
    },
    {
      "cell_type": "markdown",
      "metadata": {
        "id": "dI1THBRfs_I2"
      },
      "source": [
        "\n",
        "The value of a variable can be printed to the screen using our trusted `print()` function."
      ]
    },
    {
      "cell_type": "code",
      "metadata": {
        "id": "SSIgdiJEtJ_U"
      },
      "source": [
        "# Assign a value to a variable\n",
        "x = 1337\n",
        "\n",
        "# Print the value of x to the screen.\n",
        "print(x)"
      ],
      "execution_count": null,
      "outputs": []
    },
    {
      "cell_type": "markdown",
      "metadata": {
        "id": "E5-Fl8oytaZN"
      },
      "source": [
        "So, using this knowledge, alter your \"hello World\" program to store the message in a variable such as `msg` and then, print the value to the screen:"
      ]
    },
    {
      "cell_type": "code",
      "metadata": {
        "id": "6H82-I52t2yI"
      },
      "source": [
        "# Assign the message to a variable\n",
        "\n",
        "\n",
        "# Print the message to the screen.\n"
      ],
      "execution_count": null,
      "outputs": []
    },
    {
      "cell_type": "markdown",
      "metadata": {
        "id": "-TS6aAqzycNv"
      },
      "source": [
        "### Note on naming things in Python\n",
        "\n",
        "Typically, you want to follow a set of handy guidelines to make your code more readable for others: \n",
        "1. Variable & function names may allow any alphanumeric (a-z, A-Z, 0-9) and underscore `_` characters. Numbers however are not allowed to be the first characters. (`2hello = \"Hi\"` is forbidden, write `hello2 = \"Hi\"` instead)\n",
        "2. Variable & function names are all lowercase, multiple words are chained with `_` characters. Example: Do not write `Helloworld = \"Hello\"`, but `hello_world = \"Hello\"` \n"
      ]
    },
    {
      "cell_type": "markdown",
      "metadata": {
        "id": "37g-HHFW-Syi"
      },
      "source": [
        "## Data types"
      ]
    },
    {
      "cell_type": "markdown",
      "metadata": {
        "id": "3jkWTR-rMpJN"
      },
      "source": [
        "### Question"
      ]
    },
    {
      "cell_type": "markdown",
      "metadata": {
        "id": "8E1rNxLGIDCK"
      },
      "source": [
        "Up to now, we encountered whole numbers and strings. One question arises:\n",
        "\n",
        "-----\n",
        "\n",
        "**Are there more data types that we could think of?**\n",
        "\n",
        "*****\n",
        "\n",
        "Take a minute to answer that question yourself and write down your thoughts in the field below: \n"
      ]
    },
    {
      "cell_type": "markdown",
      "metadata": {
        "id": "pGsNxLXXhEmm"
      },
      "source": [
        "**Here goes your answer!**"
      ]
    },
    {
      "cell_type": "markdown",
      "metadata": {
        "id": "ULMwTHmoMkie"
      },
      "source": [
        "### Answers"
      ]
    },
    {
      "cell_type": "markdown",
      "metadata": {
        "id": "jyn3z1GaK3Wu"
      },
      "source": [
        "So now that you have thought about all that, we can have the answer:\n",
        "\n",
        "Yes, there are more data types in Python. The most commonly used data types are:\n",
        "\n",
        "- The `bool` type: A boolean. Either `True` or `False` (or 0 & 1)\n",
        "- The `int` type: Integral numbers, such as 1, 5, 1000.\n",
        "- The `float` type: A rational number, such as 1.0, 2.8, 3.14152\n",
        "- The `string` type: A collection of printable and non-printable characters, has to be surrounded with `\"`, such as `\"Hello World\"`, `\"I <3 Python\"`, `\"µłþøðſ\"`. "
      ]
    },
    {
      "cell_type": "markdown",
      "metadata": {
        "id": "3zhZS-aloveN"
      },
      "source": [
        "So let's see what we can do to these data types.\n",
        "\n",
        "#### Booleans\n",
        "\n",
        "Let's start with the `bool` type, a classic Boolean with two possible values, `True` and `False`. We will use these values to work with conditions in our code (see in exercise #2).\n",
        "\n",
        "Before we go into detail later on, we introduce the `==` operator. This operator allows us to compare variables and quantities to each other and returns a `bool` type. If both quantities are the same, it will output `True`, otherwise it will give us `False`."
      ]
    },
    {
      "cell_type": "code",
      "metadata": {
        "id": "gWgPiZPipEkU"
      },
      "source": [
        "# Before you run the cell, think of what you expect!\n",
        "\n",
        "print(\"– True == True:\")\n",
        "print(True == True)\n",
        "\n",
        "print(\"\\n– False == True:\")\n",
        "print(False == True)\n",
        "\n",
        "print(\"\\n– False == False:\")\n",
        "print(False == False)\n",
        "\n",
        "# You can always ask for the type of a variable, using the `type` function\n",
        "print(\"\\n– The type of False/True\")\n",
        "type(False)\n",
        "\n",
        "# Feel free to experiment some more!\n"
      ],
      "execution_count": null,
      "outputs": []
    },
    {
      "cell_type": "markdown",
      "metadata": {
        "id": "fFkI41ERrdX1"
      },
      "source": [
        "Nice, so let's move on.\n",
        "\n",
        "#### Integers\n",
        "\n",
        "A very classic data type, used for all kinds of purposes, some of which we will explore later on. An `int` in Python&nbsp;3 can be any whole number, from 0, -1, 1, to 9987018723987129837987711231 and beyond. \n",
        "\n",
        "Just like `bool`, we can compare them to each other, using our `==` operator. \n",
        "\n",
        "Another nice feature of numbers is that they have an intrinsic order, from $-\\infty$ to $\\infty$. Therefore we can also compare the values on this scale, using the \n",
        "\n",
        "- `<` (lower than), \n",
        "- `>` (greater than), \n",
        "- `<=`(lower equal) and\n",
        "- `>=` (greater equal)\n",
        "\n",
        "operators:"
      ]
    },
    {
      "cell_type": "code",
      "metadata": {
        "id": "yvq-z1QctRMz"
      },
      "source": [
        "# Before you run the cell, think of what you expect!\n",
        "\n",
        "print(\"– 3 == 3:\")\n",
        "print(3 == 3)\n",
        "\n",
        "print(\"\\n– 3 == 4:\")\n",
        "print(3 == 4)\n",
        "\n",
        "print(\"\\n– -1 < 1:\")\n",
        "print(-1 < 1)\n",
        "\n",
        "print(\"\\n– -1 > 1:\")\n",
        "print(-1 > 1)\n",
        "\n",
        "print(\"\\n– 10 >= 10:\")\n",
        "print(10 >= 10)\n",
        "\n",
        "print(\"\\n– 20 >= 10:\")\n",
        "print(20 >= 10)\n",
        "\n",
        "# Feel free to experiment some more!"
      ],
      "execution_count": null,
      "outputs": []
    },
    {
      "cell_type": "markdown",
      "metadata": {
        "id": "4x2dXPmdvwYl"
      },
      "source": [
        "Of course, we can do much more using integers (like calculating), but that may be enough for now."
      ]
    },
    {
      "cell_type": "markdown",
      "metadata": {
        "id": "BWci8fA5woXT"
      },
      "source": [
        "#### Floats\n",
        "\n",
        "This type, `float`, is probably the most commonly used type in our scientific computing world, a floating point number. Examples are `1.0`, `123.45`, `3.1415926`. It's extensively used to calculate all sorts of things. Generally, its behavior is very similar to the one of `int`s. For now, we will only introduce them:"
      ]
    },
    {
      "cell_type": "code",
      "metadata": {
        "id": "LWrKZE8y4Yv0"
      },
      "source": [
        "# Before you run the cell, think of what you expect!\n",
        "\n",
        "print(\"\\n– 3.2 == 3.2\")\n",
        "print(3.2 == 3.2)\n",
        "\n",
        "print(\"\\n– 3.1 == 3.2\")\n",
        "print(3.1 == 3.2)\n",
        "\n",
        "print(\"\\n– 3.1 <= 3.2\")\n",
        "print(3.1 <= 3.2)\n",
        "\n",
        "print(\"\\n– 3.2 <= 3.200000000000000000000000000000000000000001\")\n",
        "print(3.2 <= 3.200000000000000000000000000000000000001)\n",
        "\n",
        "print(\"\\n– 3.2 < 3.200000000000000000000000000000000000000001\")\n",
        "print(3.2 < 3.200000000000000000000000000000000000001)\n",
        "\n",
        "# Feel free to experiment some more!"
      ],
      "execution_count": null,
      "outputs": []
    },
    {
      "cell_type": "markdown",
      "metadata": {
        "id": "d1mpNn2t7wvW"
      },
      "source": [
        "#### Strings\n",
        "\n",
        "What would our lives be without written words? It  would definitely more boring ... Therefore, to fill this gap, we introduce strings. You already got to know them in the first example, a number of characters, enclosed in `\"` or `'` characters (both work, as long as you don't mix them). A very handy and important type, found virtually everywhere. It can compared similarly to the `bool` type. \n",
        "\n",
        "Furthermore, they can also be ordered (like in an encyclopedia), just try it out:"
      ]
    },
    {
      "cell_type": "code",
      "metadata": {
        "id": "B60g18zb88nN"
      },
      "source": [
        "# Before you run the cell, think of what you expect!\n",
        "\n",
        "print(\"\\n– 'Hello World' == 'Hello World'\")\n",
        "print('Hello World' == 'Hello World')\n",
        "\n",
        "print(\"\\n– 'Hello' == 'World'\")\n",
        "print('Hello' == 'World')\n",
        "\n",
        "print(\"\\n– 'Hello' < 'World'\")\n",
        "print(\"Hello\" < \"World\")\n",
        "\n",
        "print(\"\\n– 'Hello' < 'Hella'\")\n",
        "print(\"Hello\" < \"Hella\")\n",
        "\n",
        "# Feel free to experiment some more!"
      ],
      "execution_count": null,
      "outputs": []
    },
    {
      "cell_type": "markdown",
      "metadata": {
        "id": "CfEo_cTm-rkc"
      },
      "source": [
        "#### Notes\n",
        "\n",
        "Just as a short reminder, all the data types can be stored in variables, just like we did at the beginning of the course.\n",
        "\n",
        "In case you are confused by what this value is you have at a specific moment, feel free to use the `type()` function on the value or variable."
      ]
    },
    {
      "cell_type": "markdown",
      "metadata": {
        "id": "vfFo043z_8cZ"
      },
      "source": [
        "#### Homework \n",
        "\n",
        "In your time around this course, get to know the data types better and how they interact with each other. \n",
        "\n",
        "- Can you compare `string`s to `float`s or to `int`s, how do `bool`s relate to that? \n",
        "- What do you think, is `\"4\" == 4` a valid operation? \n",
        "- What's the result of `\"5\" >= 4`? Why does this happen? "
      ]
    },
    {
      "cell_type": "markdown",
      "metadata": {
        "id": "FqUZG2RPgvW5"
      },
      "source": [
        " **Here goes your answer!**\n",
        "\n",
        "\n",
        " "
      ]
    },
    {
      "cell_type": "markdown",
      "metadata": {
        "id": "eQIQOxmG-Fy7"
      },
      "source": [
        "## Working with numbers, calculations\n",
        "\n",
        "So now that we know the most basic data types in Python, we can start using them for great good! As our first basic task, we would like to **calculate the Morse potential for the hydrogen molecule** from the formula given in the exercise sheet.\n",
        "\n",
        "$$\n",
        "E=D(1-\\mathrm{e}^{-\\beta(r-r_{\\mathrm{eq}})})^2\\quad\\quad\\left\\{\n",
        "                                                   \\begin{array}{l}\n",
        "                                                     D=590,7~\\frac{\\mathrm{kJ}}{\\mathrm{mol}}\\\\\n",
        "                                                     r_{\\mathrm{eq}}=0,917~\\text{Å}\\\\\n",
        "                                                     \\beta=2,203~\\text{Å}^{-1}\n",
        "                                                   \\end{array}\n",
        "                                                 \\right.\n",
        "$$\n",
        "\n",
        "But before we do this, let's start small and get to know the computing capabilities of Python:\n"
      ]
    },
    {
      "cell_type": "markdown",
      "metadata": {
        "id": "xnySxJVxBZRQ"
      },
      "source": [
        "### Mathematics in Python\n",
        "\n",
        "Python, in a nutshell, can be used as a pretty powerful calculator. To start,  the **standard math operators** `+`, `-`, `/` and `*` are available. Raising one number to the power of another requires the `**` operator. Typically, as soon as one of the operands is a `float`, the result will also be a `float`. If and only if you operate on two `int` values, you will get an `int` back. \n",
        "\n",
        "In Python 3, the **division operator** `/` is a bit special. You can calculate `10 / 2.0`, `10.0 / 2.0`, `10 / 2.0` or even `10 / 2` (two `int`s!) and still get the same result, a `float`.  \n",
        "\n",
        "For division of `int`s, there is a special operator, the **floor division** `//`, it works only on `int`s. *Try to use the `//` operator on `float` what do you notice?* In addition to the floor division operator `//`, there is also a modulus operator `%` that returns the remainder of a floor division.\n",
        "\n",
        "Apart from the standard operators, there are a **large number of pre-defined math functions** such as `exp()`, `sin()`, `cos()`, and many more. All you need to do to use them is write `import math` before your code and then use the functions as, e. g., `math.exp()`. We will discuss what that all means later in our course.\n",
        "\n",
        "Below, just try for yourself! \n"
      ]
    },
    {
      "cell_type": "code",
      "metadata": {
        "id": "IuyH96FtF3Vd"
      },
      "source": [
        "# Feel free to try it. Calculate some numbers, try to use the built-in math.\n",
        "import math\n",
        "\n",
        "print(10.0 / 2.0)\n",
        "print(10 / 2)\n",
        "\n",
        "print(10.5 // 2.0)\n",
        "print(10 % 3)\n",
        "\n",
        "print(math.exp(0))"
      ],
      "execution_count": null,
      "outputs": []
    },
    {
      "cell_type": "markdown",
      "metadata": {
        "id": "B14GQnZ5INic"
      },
      "source": [
        "### The Morse potential function\n",
        "\n",
        "So, now that we know how to handle the power of math to our advantage, let's get into the exercise.\n",
        "\n",
        "We start by **defining the parameters as variables**, `d`,  `r_eq`, and `beta` as well as some value of `r`, let's say $r = 2\\,\\mathrm{Å}$. Do you remember how that works? "
      ]
    },
    {
      "cell_type": "code",
      "metadata": {
        "id": "XuavTjREJFxB"
      },
      "source": [
        "# Define the three parameters\n",
        "\n",
        "\n",
        "\n",
        "# Define the variable r\n"
      ],
      "execution_count": null,
      "outputs": []
    },
    {
      "cell_type": "markdown",
      "metadata": {
        "id": "xgcC4WtrJuh-"
      },
      "source": [
        "So now, on to the function. The laws of math regarding associativity etc. hold true in Python, so **try to write the Morse potential formula** in Python: "
      ]
    },
    {
      "cell_type": "code",
      "metadata": {
        "id": "Udbup_0AKAgt"
      },
      "source": [
        "# Write the formula in Python notation:\n"
      ],
      "execution_count": null,
      "outputs": []
    },
    {
      "cell_type": "markdown",
      "metadata": {
        "id": "k5OTQXX5MThu"
      },
      "source": [
        "**Question**: What is the unit of the result? "
      ]
    },
    {
      "cell_type": "markdown",
      "metadata": {
        "id": "zswlhMP1g8eS"
      },
      "source": [
        "**Here goes your answer!**"
      ]
    },
    {
      "cell_type": "markdown",
      "metadata": {
        "id": "W3r5iQ4FNAmF"
      },
      "source": [
        "### Reusing the code\n",
        "\n",
        "So now we have taught Python to calculate the Morse potential for us. Now, we run into the problem that for every time we want to know the function value, we need to write the function again. That's awful!\n",
        "\n",
        "But luckily, there is a way to circumvent this problem, and it is called a `function`. We can define functions that take some value, do some processing and then, return a different value. Here is a small test case:"
      ]
    },
    {
      "cell_type": "code",
      "metadata": {
        "id": "Bllrj1e0Pw3P"
      },
      "source": [
        "# This is how you define a function:\n",
        "def square(x):\n",
        "  # It is very important in Python to indent the inside of a function!\n",
        "\n",
        "  # The processing\n",
        "  y = x * x\n",
        "\n",
        "  # Return the result\n",
        "  return y\n",
        "\n",
        "# Call the function from outside:\n",
        "print(square(2))\n"
      ],
      "execution_count": null,
      "outputs": []
    },
    {
      "cell_type": "markdown",
      "metadata": {
        "id": "L8rIVzUZw0Xg"
      },
      "source": [
        "The function definition always follows the same guide lines:\n",
        "\n",
        "```python\n",
        "# The square brackets indicate optionality\n",
        "def function_name(input_value1):  # The colon `:` at the end is important!\n",
        "    # Notice the spaces at the beginning of this line\n",
        "    # This is the function body where all the magic happens\n",
        "    ...\n",
        "    # Once you got where you want to go, you can return your result using \n",
        "    # the `return` statement. The return statement is the last thing that\n",
        "    # will be called in the function body.\n",
        "\n",
        "    return output_value\n",
        "```"
      ]
    },
    {
      "cell_type": "markdown",
      "metadata": {
        "id": "1dPfLBqBRClD"
      },
      "source": [
        "**Task:** So, now it is your turn! **Write the Morse potential function in function form**. Define the parameter variables **inside the function body**. The variable **`r` is the input value** that you want to feed into the function. Take inspiration from the `square()` function (you may even copy it)."
      ]
    },
    {
      "cell_type": "code",
      "metadata": {
        "id": "uUxIrZoZRcxf"
      },
      "source": [
        "import math\n",
        "\n",
        "# Here goes your function:\n",
        "\n",
        "\n",
        "\n",
        "# Now, print the value of the function at 2 Angstrom\n",
        "\n"
      ],
      "execution_count": null,
      "outputs": []
    },
    {
      "cell_type": "markdown",
      "metadata": {
        "id": "4r7YSZ1VSEnv"
      },
      "source": [
        "Ok, nice. We now have a function that can be called with whatever value we give it.\n",
        "\n",
        "If we think about it, it's actually only half useful. We can calculate the Morse potential without typing the entire formula, but **only one value of `r` at a time**. For a nice plot, we would like to go with 100, 1000, or even 10000 values at once. Have fun typing that bit by bit!\n",
        "\n",
        "Just joking, we can introduce a container called a `list` that will do all that for us.\n"
      ]
    },
    {
      "cell_type": "markdown",
      "metadata": {
        "id": "XLJ0k-yJTTCs"
      },
      "source": [
        "### Lists\n",
        "\n",
        "Lists are a very handy construct in Python and we will meet them virtually everywhere.\n",
        "\n",
        "A list is a container that can hold any of the data types we introduced earlier and has to be surrounded by brackets `[` and `]`. In Python, lists are **heterogeneous containers** in that a single list can contain multiple different data types. \n",
        "\n",
        "```python\n",
        "# A list of int's\n",
        "list_int = [1, 2, 3, 4] \n",
        "\n",
        "# A list of float's\n",
        "list_flt = [1.0, 2.0, 3.0, 4.0] \n",
        "\n",
        "# A mixed list\n",
        "list_mix = [1.0, \"Hello\", 3, True] \n",
        "```\n",
        "\n",
        "Lists are super handy in Python. With a list come many functions that can be used on lists, such as the `len()` function that tells us the number of items in the list. We will get to know a number of different functionalities during the course.\n",
        "\n",
        "To generate lists quickly, there is syntax called *list comprehension* in Python, that we will use to calculate many values at once. "
      ]
    },
    {
      "cell_type": "markdown",
      "metadata": {
        "id": "qO5ffal9Xvot"
      },
      "source": [
        "#### List comprehension\n",
        "\n",
        "So, let's calculate a list of values of `r` that we would know the potential at. To do this, we want to define a spacing `dr`, a start value `r_0` and a total number of values. \n",
        "\n",
        "The syntax required for this task is: \n",
        "\n",
        "```python\n",
        "list_of_values = [function(x) for x in range(number_xvalues)]\n",
        "```\n",
        "\n",
        "**Task:** Now write a list comprehension to calculate a list of 1000 values or `r`, with the parameters given in the box. **Make sure to think of a way to calculate `r` from `r_0` and `dr` using an integer index.**"
      ]
    },
    {
      "cell_type": "code",
      "metadata": {
        "id": "Dyl9kvizZ2LK"
      },
      "source": [
        "# A simple example: \n",
        "print([x * x for x in range(5)])\n",
        "\n",
        "# Now you go! \n",
        "# Parameters: \n",
        "#   You want 1000 values or `r`, starting from r_0 = 0.2 Angström \n",
        "#   with a spacing of dr = 0.002 Angström\n",
        "\n"
      ],
      "execution_count": null,
      "outputs": []
    },
    {
      "cell_type": "markdown",
      "metadata": {
        "id": "UUqkj3JUa74v"
      },
      "source": [
        "Nice, now you have a list of `r` values!\n",
        "\n",
        "With the same syntax as above, we can calculate the potential at every value of `r`. Here however, we want to use the values of the list as the input for the Morse potential. In Python, this is pretty easy, we can implicitely take each value from a list in a list comprehension:"
      ]
    },
    {
      "cell_type": "code",
      "metadata": {
        "id": "_5zKq9vqckLB"
      },
      "source": [
        "# Back to the simple example: \n",
        "print([x * x for x in range(5)])\n",
        "\n",
        "# Now:\n",
        "inputlist = [0, 1, 2, 3, 4] \n",
        "print([x * x for x in inputlist])"
      ],
      "execution_count": null,
      "outputs": []
    },
    {
      "cell_type": "markdown",
      "metadata": {
        "id": "z6Fy0rfxdKYA"
      },
      "source": [
        "And now, you go for it: (In Colab notebooks, you can access variables from other cells, as long as you have executed the above cell)\n",
        "\n",
        "**Task**: Use the list of `r` values to **calculate the corresponding Morse potential values**. Again, use list comprehension here!"
      ]
    },
    {
      "cell_type": "code",
      "metadata": {
        "id": "4d1IUImOdJ8J"
      },
      "source": [
        "# Make a new list based on the list of r values using list comprehension\n",
        "\n",
        "\n",
        "# Print the list to the screen\n"
      ],
      "execution_count": null,
      "outputs": []
    },
    {
      "cell_type": "markdown",
      "metadata": {
        "id": "27tNsfAJdx1v"
      },
      "source": [
        "Great! We're already on the home stretch! Now, let's make a small plot of that data. Therefore, we need the library `matplotlib.pyplot` which should already be installed.\n",
        "\n",
        "Simply import the library before using it with `import matplotlib.pyplot as plt`. Then, as the most simple command, use the function `plt.plot()` and give as input your list for the x axis first, then the list for the y axis, separated by commata:"
      ]
    },
    {
      "cell_type": "code",
      "metadata": {
        "id": "EMaDSytVf1xK"
      },
      "source": [
        "# Simple example: \n",
        "import matplotlib.pyplot as plt\n",
        "\n",
        "xlist = [0, 1, 2, 3, 4] \n",
        "ylist = [x * x for x in xlist]\n",
        "\n",
        "# This is the command to plot two lists against each over. They need to have the\n",
        "# same length.\n",
        "plt.plot(xlist, ylist)\n",
        "\n",
        "plt.show()\n"
      ],
      "execution_count": null,
      "outputs": []
    },
    {
      "cell_type": "markdown",
      "metadata": {
        "id": "HKrhDDbm3tu9"
      },
      "source": [
        "And now you go: \n",
        "\n",
        "**Task:** Take the code from the last cell and **use your lists created (see above) for the Morse potential task** and plot the list of `r` values as the x axis and the list of potential values as the y axis.\n"
      ]
    },
    {
      "cell_type": "code",
      "metadata": {
        "id": "DcaYpKsvihb_"
      },
      "source": [
        "# And now you go!\n",
        "\n"
      ],
      "execution_count": null,
      "outputs": []
    },
    {
      "cell_type": "markdown",
      "metadata": {
        "id": "xm2P6nNygU3P"
      },
      "source": [
        "There you have it! Nice! Congratulations, your first scientific calculation and data visulisation in Python! 🎉\n",
        "\n",
        "In the next courses, we will cover a lot more ground on lists and how to calculate some more advanced things."
      ]
    }
  ]
}